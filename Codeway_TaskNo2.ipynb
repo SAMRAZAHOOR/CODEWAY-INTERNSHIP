{
 "cells": [
  {
   "cell_type": "markdown",
   "id": "dafcf52d-142a-48c4-bce8-a97cf29be31a",
   "metadata": {},
   "source": [
    "# CALCULATOR"
   ]
  },
  {
   "cell_type": "code",
   "execution_count": 11,
   "id": "4456aba5-e9df-40f1-8131-3ef4776cbe3d",
   "metadata": {},
   "outputs": [
    {
     "name": "stdin",
     "output_type": "stream",
     "text": [
      "Enter number 1 :  5\n",
      "Enter number 2 :  2\n"
     ]
    },
    {
     "name": "stdout",
     "output_type": "stream",
     "text": [
      "Types of operations\n",
      " 1. Addition \n",
      " 2. Subtraction\n",
      " 3. Multiplication \n",
      " 4. Division\n"
     ]
    },
    {
     "name": "stdin",
     "output_type": "stream",
     "text": [
      "Choose operation type using number 1-4   3\n"
     ]
    },
    {
     "name": "stdout",
     "output_type": "stream",
     "text": [
      "You have choosen 3 i.e Multiplication \n",
      "Multiplication of numbers 5 and 2 is 10 \n"
     ]
    },
    {
     "name": "stdin",
     "output_type": "stream",
     "text": [
      "Do you want to perform another operation? press:y for yes otherwise press n  n\n"
     ]
    },
    {
     "name": "stdout",
     "output_type": "stream",
     "text": [
      "Goodbye!\n"
     ]
    }
   ],
   "source": [
    "keep_going='y'\n",
    "while keep_going=='y':\n",
    "    NUM_1=int(input('Enter number 1 : '))\n",
    "    NUM_2=int(input('Enter number 2 : '))\n",
    "    print('Types of operations\\n 1. Addition \\n 2. Subtraction\\n 3. Multiplication \\n 4. Division')\n",
    "    dic={1:'Addition',2:'Subtraction',3:'Multiplication',4:'Division'}\n",
    "    OPERATION_TYPE=int(input('Choose operation type using number 1-4  '))\n",
    "    \n",
    "    if OPERATION_TYPE>=1 and OPERATION_TYPE<=4:\n",
    "        print(f'You have choosen {OPERATION_TYPE} i.e {dic[OPERATION_TYPE]} ')\n",
    "        if OPERATION_TYPE==1:\n",
    "            ADD=NUM_1+NUM_2\n",
    "            print(f'Sum of numbers {NUM_1} and {NUM_2} is {ADD} ')\n",
    "        elif OPERATION_TYPE==2:\n",
    "            SUB=NUM_1-NUM_2\n",
    "            print(f'Subtraction of numbers {NUM_1} and {NUM_2} is {SUB} ')\n",
    "        elif OPERATION_TYPE==3:\n",
    "            MUL=NUM_1*NUM_2\n",
    "            print(f'Multiplication of numbers {NUM_1} and {NUM_2} is {MUL} ')\n",
    "        elif OPERATION_TYPE==4:\n",
    "            if NUM_2 == 0:\n",
    "                    print(\"Error! Division by zero is not allowed.\")\n",
    "            else:\n",
    "                DIV=NUM_1/NUM_2\n",
    "                print(f'Division of numbers {NUM_1} and {NUM_2} is {DIV:.2f} ')\n",
    "    else:\n",
    "        print('bye')\n",
    "\n",
    "    keep_going = input(\"Do you want to perform another operation? press:y for yes otherwise press n \")\n",
    "print('Goodbye!')"
   ]
  },
  {
   "cell_type": "markdown",
   "id": "20c399a1-e747-4174-a8c1-8739df615f32",
   "metadata": {},
   "source": [
    "# Gui "
   ]
  },
  {
   "cell_type": "code",
   "execution_count": 12,
   "id": "5b581b84-082e-4b1d-8dcb-4de9a09f16c5",
   "metadata": {},
   "outputs": [],
   "source": [
    "import tkinter as tk\n",
    "from tkinter import messagebox\n",
    "\n",
    "def calculate():\n",
    "    num_1 = int(num1_entry.get())\n",
    "    num_2 = int(num2_entry.get())\n",
    "    operation_type = operation_type_var.get()\n",
    "\n",
    "    if operation_type == 1:\n",
    "        result = num_1 + num_2\n",
    "    elif operation_type == 2:\n",
    "        result = num_1 - num_2\n",
    "    elif operation_type == 3:\n",
    "        result = num_1 * num_2\n",
    "    elif operation_type == 4:\n",
    "        if num_2 == 0:\n",
    "            messagebox.showerror(\"Error\", \"Division by zero is not allowed.\")\n",
    "            return\n",
    "        result = num_1 / num_2\n",
    "    else:\n",
    "        messagebox.showerror(\"Error\", \"Invalid operation type.\")\n",
    "        return\n",
    "\n",
    "    result_label.config(text=f\"Result: {result}\")\n",
    "\n",
    "# Create the main application window\n",
    "app = tk.Tk()\n",
    "app.title(\"Calculator\")\n",
    "\n",
    "# Create and pack widgets\n",
    "num1_label = tk.Label(app, text=\"Enter number 1:\")\n",
    "num1_label.grid(row=0, column=0, padx=5, pady=5, sticky=tk.W)\n",
    "\n",
    "num1_entry = tk.Entry(app)\n",
    "num1_entry.grid(row=0, column=1, padx=5, pady=5)\n",
    "\n",
    "num2_label = tk.Label(app, text=\"Enter number 2:\")\n",
    "num2_label.grid(row=1, column=0, padx=5, pady=5, sticky=tk.W)\n",
    "\n",
    "num2_entry = tk.Entry(app)\n",
    "num2_entry.grid(row=1, column=1, padx=5, pady=5)\n",
    "\n",
    "operation_type_var = tk.IntVar()\n",
    "operation_type_var.set(1)  # Default to Addition\n",
    "\n",
    "operation_label = tk.Label(app, text=\"Select operation:\")\n",
    "operation_label.grid(row=2, column=0, padx=5, pady=5, sticky=tk.W)\n",
    "\n",
    "operations = [(\"Addition\", 1), (\"Subtraction\", 2), (\"Multiplication\", 3), (\"Division\", 4)]\n",
    "for text, value in operations:\n",
    "    radio = tk.Radiobutton(app, text=text, variable=operation_type_var, value=value)\n",
    "    radio.grid(row=value+1, column=1, padx=5, pady=2, sticky=tk.W)\n",
    "\n",
    "calculate_button = tk.Button(app, text=\"Calculate\", command=calculate)\n",
    "calculate_button.grid(row=6, column=0, columnspan=2, padx=5, pady=5)\n",
    "\n",
    "result_label = tk.Label(app, text=\"\")\n",
    "result_label.grid(row=7, column=0, columnspan=2, padx=5, pady=5)\n",
    "\n",
    "# Start the Tkinter event loop\n",
    "app.mainloop()\n"
   ]
  },
  {
   "cell_type": "code",
   "execution_count": null,
   "id": "8b89bd76-efae-485b-9e07-6afdbbf03263",
   "metadata": {},
   "outputs": [],
   "source": []
  }
 ],
 "metadata": {
  "kernelspec": {
   "display_name": "Python 3 (ipykernel)",
   "language": "python",
   "name": "python3"
  },
  "language_info": {
   "codemirror_mode": {
    "name": "ipython",
    "version": 3
   },
   "file_extension": ".py",
   "mimetype": "text/x-python",
   "name": "python",
   "nbconvert_exporter": "python",
   "pygments_lexer": "ipython3",
   "version": "3.11.7"
  }
 },
 "nbformat": 4,
 "nbformat_minor": 5
}
