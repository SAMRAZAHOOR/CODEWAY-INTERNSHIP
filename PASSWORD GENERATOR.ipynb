{
 "cells": [
  {
   "cell_type": "code",
   "execution_count": null,
   "id": "1c83d2bb-c08a-4f63-8786-822ad52db00f",
   "metadata": {},
   "outputs": [],
   "source": []
  },
  {
   "cell_type": "code",
   "execution_count": 1,
   "id": "5c86648d-37b1-4f6b-85de-06b6b6c61255",
   "metadata": {},
   "outputs": [
    {
     "name": "stdin",
     "output_type": "stream",
     "text": [
      "Enter the desired length of the password:  7\n"
     ]
    },
    {
     "name": "stdout",
     "output_type": "stream",
     "text": [
      "Generated Password: @l68E#5\n"
     ]
    }
   ],
   "source": [
    "import random\n",
    "import string\n",
    "def main():\n",
    "    length_input = input(\"Enter the desired length of the password: \")\n",
    "    \n",
    "    if length_input.isdigit():\n",
    "        length = int(length_input)\n",
    "        if length > 0:\n",
    "            password = password_generate(length)\n",
    "            print(\"Generated Password:\", password)\n",
    "        else:\n",
    "            print(\"Please enter a positive integer for password length.\")\n",
    "    else:\n",
    "        print(\"Please enter a valid integer for password length.\")\n",
    "def password_generate(length):\n",
    "    characters = string.ascii_letters + string.digits + string.punctuation+string.digits+string.hexdigits\n",
    "    password = ''\n",
    "    for i in range(length):\n",
    "        password += random.choice(characters)\n",
    "    return password\n",
    "if __name__ == \"__main__\":\n",
    "    main()"
   ]
  },
  {
   "cell_type": "markdown",
   "id": "49b75d61-a92b-4cf7-b0b8-77e69466cefd",
   "metadata": {},
   "source": [
    "#  GUI BASED"
   ]
  },
  {
   "cell_type": "code",
   "execution_count": 12,
   "id": "562c0bd2-0179-4e10-99d8-3fb8d67e2970",
   "metadata": {},
   "outputs": [],
   "source": [
    "import random\n",
    "import string\n",
    "import tkinter as tk\n",
    "from tkinter import messagebox\n",
    "\n",
    "def generate_password(length):\n",
    "    characters = string.ascii_letters + string.digits + string.punctuation\n",
    "    password = ''.join(random.choice(characters) for _ in range(length))\n",
    "    return password\n",
    "\n",
    "def generate_password_callback():\n",
    "    length_str = length_entry.get()\n",
    "    if length_str.isdigit():\n",
    "        length = int(length_str)\n",
    "        if length > 0:\n",
    "            password = generate_password(length)\n",
    "            messagebox.showinfo(\"Generated Password\", f\"Generated Password: {password}\")\n",
    "        else:\n",
    "            messagebox.showerror(\"Error\", \"Please enter a positive integer for password length.\")\n",
    "    else:\n",
    "        messagebox.showerror(\"Error\", \"Please enter a valid integer for password length.\")\n",
    "\n",
    "# main window\n",
    "root = tk.Tk()\n",
    "root.title(\"Password Generator\")\n",
    "\n",
    "# widgets\n",
    "length_label = tk.Label(root, text=\"Enter the desired length of the password:\")\n",
    "length_label.pack()\n",
    "\n",
    "length_entry = tk.Entry(root)\n",
    "length_entry.pack()\n",
    "\n",
    "generate_button = tk.Button(root, text=\"Generate Password\", command=generate_password_callback)\n",
    "generate_button.pack()\n",
    "\n",
    "root.mainloop()\n"
   ]
  },
  {
   "cell_type": "code",
   "execution_count": null,
   "id": "9f69b461-ea87-45f1-8000-9332debc537a",
   "metadata": {},
   "outputs": [],
   "source": []
  }
 ],
 "metadata": {
  "kernelspec": {
   "display_name": "Python 3 (ipykernel)",
   "language": "python",
   "name": "python3"
  },
  "language_info": {
   "codemirror_mode": {
    "name": "ipython",
    "version": 3
   },
   "file_extension": ".py",
   "mimetype": "text/x-python",
   "name": "python",
   "nbconvert_exporter": "python",
   "pygments_lexer": "ipython3",
   "version": "3.11.8"
  }
 },
 "nbformat": 4,
 "nbformat_minor": 5
}
