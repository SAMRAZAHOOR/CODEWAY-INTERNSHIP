{
 "cells": [
  {
   "cell_type": "code",
   "execution_count": 1,
   "id": "7c0a0b79-a314-4cc1-8205-a4fcc8901c76",
   "metadata": {},
   "outputs": [
    {
     "name": "stdin",
     "output_type": "stream",
     "text": [
      "Enter the name of a city :  karachi\n"
     ]
    },
    {
     "name": "stdout",
     "output_type": "stream",
     "text": [
      "Weather forecast for Karachi:\n",
      "Temperature: 24.9°C\n",
      "Humidity: 20%\n",
      "Wind Speed: 2.57 m/s\n",
      "Weather Description: haze\n"
     ]
    }
   ],
   "source": [
    "import requests\n",
    "\n",
    "def get_weather_data(location):\n",
    "    api_key = 'b4ade5e54ab0d49585a6d80b569e25bc'\n",
    "    base_url = 'http://api.openweathermap.org/data/2.5/weather?'\n",
    "\n",
    "    if location.isdigit():\n",
    "        params = f'zip={location}'\n",
    "    else:\n",
    "        params = f'q={location}'\n",
    "\n",
    "    url = f'{base_url}{params}&appid={api_key}&units=metric'\n",
    "\n",
    "    # Make the API request\n",
    "    response = requests.get(url)\n",
    "\n",
    "    # Check if the request was successful\n",
    "    if response.status_code == 200:\n",
    "        # Extract relevant weather information from the response\n",
    "        weather_data = response.json()\n",
    "        city_name = weather_data['name']\n",
    "        temperature = weather_data['main']['temp']\n",
    "        humidity = weather_data['main']['humidity']\n",
    "        wind_speed = weather_data['wind']['speed']\n",
    "        weather_description = weather_data['weather'][0]['description']\n",
    "\n",
    "        # Display weather information to the user\n",
    "        print(f'Weather forecast for {city_name}:')\n",
    "        print(f'Temperature: {temperature}°C')\n",
    "        print(f'Humidity: {humidity}%')\n",
    "        print(f'Wind Speed: {wind_speed} m/s')\n",
    "        print(f'Weather Description: {weather_description}')\n",
    "    else:\n",
    "        print('Failed to retrieve weather data. Please try again later.')\n",
    "\n",
    "if __name__ == '__main__':\n",
    "    location = input('Enter the name of a city : ')\n",
    "    get_weather_data(location)\n"
   ]
  },
  {
   "cell_type": "code",
   "execution_count": null,
   "id": "63a51da2-1c1d-4f95-9826-cdb7ab4172e6",
   "metadata": {},
   "outputs": [],
   "source": []
  },
  {
   "cell_type": "code",
   "execution_count": null,
   "id": "7a4778cb-3376-4e19-abad-2554acfa449e",
   "metadata": {},
   "outputs": [],
   "source": []
  }
 ],
 "metadata": {
  "kernelspec": {
   "display_name": "Python 3 (ipykernel)",
   "language": "python",
   "name": "python3"
  },
  "language_info": {
   "codemirror_mode": {
    "name": "ipython",
    "version": 3
   },
   "file_extension": ".py",
   "mimetype": "text/x-python",
   "name": "python",
   "nbconvert_exporter": "python",
   "pygments_lexer": "ipython3",
   "version": "3.11.8"
  }
 },
 "nbformat": 4,
 "nbformat_minor": 5
}
