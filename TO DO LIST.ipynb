{
 "cells": [
  {
   "cell_type": "code",
   "execution_count": 2,
   "id": "9579094f-676a-4877-a096-2d1ae4731d01",
   "metadata": {},
   "outputs": [
    {
     "name": "stdout",
     "output_type": "stream",
     "text": [
      "\n",
      "1. Add Task\n",
      "2. Remove Task\n",
      "3. Display Tasks\n",
      "4. Mark Task as Complete\n",
      "5. Exit\n"
     ]
    },
    {
     "name": "stdin",
     "output_type": "stream",
     "text": [
      "Enter your choice (1-5):  1\n",
      "Enter task title:  ASSIGNMENT\n",
      "Enter task description:  CS1002\n",
      "Enter due date:  20 JAN\n"
     ]
    },
    {
     "name": "stdout",
     "output_type": "stream",
     "text": [
      "\n",
      "1. Add Task\n",
      "2. Remove Task\n",
      "3. Display Tasks\n",
      "4. Mark Task as Complete\n",
      "5. Exit\n"
     ]
    },
    {
     "name": "stdin",
     "output_type": "stream",
     "text": [
      "Enter your choice (1-5):  4\n",
      "Enter the index of the task to mark as complete:  0\n"
     ]
    },
    {
     "name": "stdout",
     "output_type": "stream",
     "text": [
      "Task marked as complete.\n",
      "\n",
      "1. Add Task\n",
      "2. Remove Task\n",
      "3. Display Tasks\n",
      "4. Mark Task as Complete\n",
      "5. Exit\n"
     ]
    },
    {
     "name": "stdin",
     "output_type": "stream",
     "text": [
      "Enter your choice (1-5):  5\n"
     ]
    },
    {
     "name": "stdout",
     "output_type": "stream",
     "text": [
      "Exiting the To-Do List application. Goodbye!\n"
     ]
    }
   ],
   "source": [
    "class Task:\n",
    "    def __init__(self, title, description, due_date):\n",
    "        self.title = title\n",
    "        self.description = description\n",
    "        self.status = \"Incomplete\"\n",
    "        self.due_date = due_date\n",
    "\n",
    "    def mark_as_complete(self):\n",
    "        self.status = \"Complete\"\n",
    "\n",
    "    def __str__(self):\n",
    "        return f\"{self.title} - {self.description} - Due: {self.due_date} - Status: {self.status}\"\n",
    "class ToDoList:\n",
    "    def __init__(self):\n",
    "        self.tasks = []\n",
    "\n",
    "    def add_task(self, task):\n",
    "        self.tasks.append(task)\n",
    "\n",
    "    def remove_task(self, task):\n",
    "        self.tasks.remove(task)\n",
    "\n",
    "    def display_tasks(self):\n",
    "        for task in self.tasks:\n",
    "            print(task)\n",
    "\n",
    "    def update_task_status(self, task, new_status):\n",
    "        task.status = new_status\n",
    "def main():\n",
    "    todo_list = ToDoList()\n",
    "\n",
    "    while True:\n",
    "        print(\"\\n1. Add Task\")\n",
    "        print(\"2. Remove Task\")\n",
    "        print(\"3. Display Tasks\")\n",
    "        print(\"4. Mark Task as Complete\")\n",
    "        print(\"5. Exit\")\n",
    "\n",
    "        choice = input(\"Enter your choice (1-5): \")\n",
    "\n",
    "        if choice == \"1\":\n",
    "            title = input(\"Enter task title: \")\n",
    "            description = input(\"Enter task description: \")\n",
    "            due_date = input(\"Enter due date: \")\n",
    "            new_task = Task(title, description, due_date)\n",
    "            todo_list.add_task(new_task)\n",
    "\n",
    "        elif choice == \"2\":\n",
    "            task_index = int(input(\"Enter the index of the task to remove: \"))\n",
    "            try:\n",
    "                task_to_remove = todo_list.tasks[task_index]\n",
    "                todo_list.remove_task(task_to_remove)\n",
    "                print(\"Task removed successfully.\")\n",
    "            except IndexError:\n",
    "                print(\"Invalid index. Please enter a valid index.\")\n",
    "\n",
    "        elif choice == \"3\":\n",
    "            todo_list.display_tasks()\n",
    "\n",
    "        elif choice == \"4\":\n",
    "            task_index = int(input(\"Enter the index of the task to mark as complete: \"))\n",
    "            try:\n",
    "                task_to_complete = todo_list.tasks[task_index]\n",
    "                task_to_complete.mark_as_complete()\n",
    "                print(\"Task marked as complete.\")\n",
    "            except IndexError:\n",
    "                print(\"Invalid index. Please enter a valid index.\")\n",
    "\n",
    "        elif choice == \"5\":\n",
    "            print(\"Exiting the To-Do List application. Goodbye!\")\n",
    "            break\n",
    "\n",
    "        else:\n",
    "            print(\"Invalid choice. Please enter a number between 1 and 5.\")\n",
    "\n",
    "if __name__ == \"__main__\":\n",
    "    main()\n",
    "\n"
   ]
  },
  {
   "cell_type": "markdown",
   "id": "2c6c990c-295f-43cf-848e-c740aed14530",
   "metadata": {},
   "source": [
    "# Using GUI TKINTER MODULE"
   ]
  },
  {
   "cell_type": "code",
   "execution_count": 1,
   "id": "b8970de2-a7b0-47dd-933b-7af4e13b4287",
   "metadata": {},
   "outputs": [
    {
     "name": "stdin",
     "output_type": "stream",
     "text": [
      "Enter task title:  TASK 1\n",
      "Enter task description:  ASSIGNMENTS\n",
      "Enter due date:  20 JAN 2024\n",
      "Enter task title:  TASK 2\n",
      "Enter task description:  QUIZ\n",
      "Enter due date:  31 JAN\n",
      "Enter the index of the task to mark as complete:  0\n"
     ]
    }
   ],
   "source": [
    "import tkinter as tk\n",
    "from tkinter import messagebox\n",
    "\n",
    "class Task:\n",
    "    def __init__(self, title, description, due_date):\n",
    "        self.title = title\n",
    "        self.description = description\n",
    "        self.status = \"Incomplete\"\n",
    "        self.due_date = due_date\n",
    "\n",
    "    def mark_as_complete(self):\n",
    "        self.status = \"Complete\"\n",
    "\n",
    "    def __str__(self):\n",
    "        return f\"{self.title} - {self.description} - Due: {self.due_date} - Status: {self.status}\"\n",
    "\n",
    "class ToDoListApp:\n",
    "    def __init__(self, master):\n",
    "        self.master = master\n",
    "        master.title(\"To-Do List\")\n",
    "\n",
    "        self.todo_list = []\n",
    "\n",
    "        self.label = tk.Label(master, text=\"To-Do List\")\n",
    "        self.label.pack()\n",
    "\n",
    "        self.menu_frame = tk.Frame(master)\n",
    "        self.menu_frame.pack()\n",
    "\n",
    "        self.add_button = tk.Button(self.menu_frame, text=\"Add Task\", command=self.add_task)\n",
    "        self.add_button.grid(row=0, column=0)\n",
    "\n",
    "        self.remove_button = tk.Button(self.menu_frame, text=\"Remove Task\", command=self.remove_task)\n",
    "        self.remove_button.grid(row=0, column=1)\n",
    "\n",
    "        self.complete_button = tk.Button(self.menu_frame, text=\"Mark as Complete\", command=self.mark_as_complete)\n",
    "        self.complete_button.grid(row=0, column=2)\n",
    "\n",
    "        self.exit_button = tk.Button(self.menu_frame, text=\"Exit\", command=master.quit)\n",
    "        self.exit_button.grid(row=0, column=3)\n",
    "\n",
    "        self.task_display = tk.Text(master, height=10, width=50)\n",
    "        self.task_display.pack()\n",
    "\n",
    "    def add_task(self):\n",
    "        title = input(\"Enter task title: \")\n",
    "        description = input(\"Enter task description: \")\n",
    "        due_date = input(\"Enter due date: \")\n",
    "        new_task = Task(title, description, due_date)\n",
    "        self.todo_list.append(new_task)\n",
    "        self.update_display()\n",
    "\n",
    "    def remove_task(self):\n",
    "        index = int(input(\"Enter the index of the task to remove: \"))\n",
    "        try:\n",
    "            del self.todo_list[index]\n",
    "            self.update_display()\n",
    "            messagebox.showinfo(\"Success\", \"Task removed successfully.\")\n",
    "        except IndexError:\n",
    "            messagebox.showerror(\"Error\", \"Invalid index. Please enter a valid index.\")\n",
    "\n",
    "    def mark_as_complete(self):\n",
    "        index = int(input(\"Enter the index of the task to mark as complete: \"))\n",
    "        try:\n",
    "            self.todo_list[index].mark_as_complete()\n",
    "            self.update_display()\n",
    "            messagebox.showinfo(\"Success\", \"Task marked as complete.\")\n",
    "        except IndexError:\n",
    "            messagebox.showerror(\"Error\", \"Invalid index. Please enter a valid index.\")\n",
    "\n",
    "    def update_display(self):\n",
    "        self.task_display.delete(1.0, tk.END)\n",
    "        for task in self.todo_list:\n",
    "            self.task_display.insert(tk.END, str(task) + \"\\n\")\n",
    "\n",
    "def main():\n",
    "    root = tk.Tk()\n",
    "    app = ToDoListApp(root)\n",
    "    root.mainloop()\n",
    "\n",
    "if __name__ == \"__main__\":\n",
    "    main()\n"
   ]
  },
  {
   "cell_type": "code",
   "execution_count": null,
   "id": "540d1a91-c0c7-448e-8f41-1255618cc192",
   "metadata": {},
   "outputs": [],
   "source": []
  },
  {
   "cell_type": "code",
   "execution_count": null,
   "id": "f01d344b-2b78-4231-b788-64d21386e9c2",
   "metadata": {},
   "outputs": [],
   "source": []
  }
 ],
 "metadata": {
  "kernelspec": {
   "display_name": "Python 3 (ipykernel)",
   "language": "python",
   "name": "python3"
  },
  "language_info": {
   "codemirror_mode": {
    "name": "ipython",
    "version": 3
   },
   "file_extension": ".py",
   "mimetype": "text/x-python",
   "name": "python",
   "nbconvert_exporter": "python",
   "pygments_lexer": "ipython3",
   "version": "3.11.7"
  }
 },
 "nbformat": 4,
 "nbformat_minor": 5
}
