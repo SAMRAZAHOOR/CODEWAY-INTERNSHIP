{
 "cells": [
  {
   "cell_type": "code",
   "execution_count": null,
   "id": "4ebc8d78-3458-47e2-a692-7bf5ef0d66ae",
   "metadata": {},
   "outputs": [],
   "source": []
  },
  {
   "cell_type": "code",
   "execution_count": null,
   "id": "2b11f808-e827-4227-8b6c-ec0736db1ea1",
   "metadata": {},
   "outputs": [],
   "source": []
  },
  {
   "cell_type": "code",
   "execution_count": null,
   "id": "6b6b0b7a-3c2d-47a6-a89f-7f34dd9afd87",
   "metadata": {},
   "outputs": [
    {
     "name": "stdout",
     "output_type": "stream",
     "text": [
      "Welcome to the Quiz Game!\n",
      "You will be asked multiple-choice questions.\n",
      "Select the correct option (A, B, C, D). Let's see how many you can answer correctly!\n",
      "\n",
      "Question: Who is the national poet of Pakistan?\n",
      "A. Allama Iqbal\n",
      "B. Faiz Ahmed Faiz\n",
      "C. Mir Taqi Mir\n",
      "D. Ghalib\n"
     ]
    },
    {
     "name": "stdin",
     "output_type": "stream",
     "text": [
      "Your answer (Enter the option letter):  A\n"
     ]
    },
    {
     "name": "stdout",
     "output_type": "stream",
     "text": [
      "Correct!\n",
      "\n",
      "Question: What is the national animal of Pakistan?\n",
      "A. Markhor\n",
      "B. Snow Leopard\n",
      "C. Lion\n",
      "D. Tiger\n"
     ]
    },
    {
     "name": "stdin",
     "output_type": "stream",
     "text": [
      "Your answer (Enter the option letter):  A\n"
     ]
    },
    {
     "name": "stdout",
     "output_type": "stream",
     "text": [
      "Correct!\n",
      "\n",
      "Question: In which year did Pakistan gain independence?\n",
      "A. 1947\n",
      "B. 1956\n",
      "C. 1965\n",
      "D. 1971\n"
     ]
    },
    {
     "name": "stdin",
     "output_type": "stream",
     "text": [
      "Your answer (Enter the option letter):  \n"
     ]
    },
    {
     "name": "stdout",
     "output_type": "stream",
     "text": [
      "Incorrect! The correct answer is: A\n",
      "\n",
      "Question: Who is the founder of Pakistan?\n",
      "A. Muhammad Ali Jinnah\n",
      "B. Allama Iqbal\n",
      "C. Sir Syed Ahmed Khan\n",
      "D. Liaquat Ali Khan\n"
     ]
    },
    {
     "name": "stdin",
     "output_type": "stream",
     "text": [
      "Your answer (Enter the option letter):  A\n"
     ]
    },
    {
     "name": "stdout",
     "output_type": "stream",
     "text": [
      "Correct!\n",
      "\n",
      "Question: What is the national language of Pakistan?\n",
      "A. Urdu\n",
      "B. English\n",
      "C. Punjabi\n",
      "D. Sindhi\n"
     ]
    },
    {
     "name": "stdin",
     "output_type": "stream",
     "text": [
      "Your answer (Enter the option letter):  A\n"
     ]
    },
    {
     "name": "stdout",
     "output_type": "stream",
     "text": [
      "Correct!\n",
      "\n",
      "Quiz Complete!\n",
      "You got 4 out of 5 questions correct.\n",
      "Your final score is: 80.0 %\n"
     ]
    }
   ],
   "source": [
    "import random\n",
    "questions = {\"Who is the national poet of Pakistan?\": {\"A\": \"Allama Iqbal\", \"B\": \"Faiz Ahmed Faiz\", \"C\": \"Mir Taqi Mir\", \"D\": \"Ghalib\"},\n",
    "    \"What is the national animal of Pakistan?\": {\"A\": \"Markhor\", \"B\": \"Snow Leopard\", \"C\": \"Lion\", \"D\": \"Tiger\"},\n",
    "    \"In which year did Pakistan gain independence?\": {\"A\": \"1947\", \"B\": \"1956\", \"C\": \"1965\", \"D\": \"1971\"},\n",
    "    \"Who is the founder of Pakistan?\": {\"A\": \"Muhammad Ali Jinnah\", \"B\": \"Allama Iqbal\", \"C\": \"Sir Syed Ahmed Khan\", \"D\": \"Liaquat Ali Khan\"},\n",
    "    \"What is the national language of Pakistan?\": {\"A\": \"Urdu\", \"B\": \"English\", \"C\": \"Punjabi\", \"D\": \"Sindhi\"}}\n",
    "\n",
    "\n",
    "# display welcome message and rules\n",
    "def display_welcome_message():\n",
    "    print(\"Welcome to the Quiz Game!\")\n",
    "    print(\"You will be asked multiple-choice questions.\")\n",
    "    print(\"Select the correct option (A, B, C, D). Let's see how many you can answer correctly!\")\n",
    "\n",
    "#  present quiz questions, evaluate user's answers, and keep track of score\n",
    "def present_quiz_questions():\n",
    "    score = 0\n",
    "    total_questions = len(questions)\n",
    "    for question, options in questions.items():\n",
    "        print(\"\\nQuestion:\", question)\n",
    "        for option, value in options.items():\n",
    "            print(option + \".\", value)\n",
    "        user_answer = input(\"Your answer (Enter the option letter): \").strip().upper()\n",
    "        correct_answer = get_correct_answer(options)\n",
    "        if user_answer == correct_answer:\n",
    "            print(\"Correct!\")\n",
    "            score += 1\n",
    "        else:\n",
    "            print(\"Incorrect! The correct answer is:\", correct_answer)\n",
    "    return score, total_questions\n",
    "\n",
    "#  get the correct answer from the options\n",
    "def get_correct_answer(options):\n",
    "    for option, value in options.items():\n",
    "        if value == options[\"A\"]:  # Assuming the first option is always correct\n",
    "            return option\n",
    "\n",
    "#  display final results\n",
    "def display_final_results(score, total_questions):\n",
    "    print(\"\\nQuiz Complete!\")\n",
    "    print(\"You got\", score, \"out of\", total_questions, \"questions correct.\")\n",
    "    print(\"Your final score is:\", (score / total_questions) * 100, \"%\")\n",
    "\n",
    "#  ask the user if they want to play again\n",
    "def play_again():\n",
    "    play = input(\"\\nDo you want to play again? (yes/no): \").lower()\n",
    "    return play == \"yes\"\n",
    "\n",
    "# Main function\n",
    "def main():\n",
    "    display_welcome_message()\n",
    "    while True:\n",
    "        score, total_questions = present_quiz_questions()\n",
    "        display_final_results(score, total_questions)\n",
    "        if not play_again():\n",
    "            break\n",
    "\n",
    "if __name__ == \"__main__\":\n",
    "    main()\n"
   ]
  },
  {
   "cell_type": "code",
   "execution_count": null,
   "id": "4de89ed3-c9be-4416-a5a3-44109ce918cb",
   "metadata": {},
   "outputs": [],
   "source": []
  }
 ],
 "metadata": {
  "kernelspec": {
   "display_name": "Python 3 (ipykernel)",
   "language": "python",
   "name": "python3"
  },
  "language_info": {
   "codemirror_mode": {
    "name": "ipython",
    "version": 3
   },
   "file_extension": ".py",
   "mimetype": "text/x-python",
   "name": "python",
   "nbconvert_exporter": "python",
   "pygments_lexer": "ipython3",
   "version": "3.11.8"
  }
 },
 "nbformat": 4,
 "nbformat_minor": 5
}
